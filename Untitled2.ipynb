{
 "cells": [
  {
   "cell_type": "markdown",
   "id": "96532b9d-a68a-4902-b87c-c28adf781509",
   "metadata": {},
   "source": [
    "# STRINGS"
   ]
  },
  {
   "cell_type": "markdown",
   "id": "cb7f7587-8c52-4fcb-9b36-ce42939bb0a0",
   "metadata": {},
   "source": [
    "## STRINGS OPERATION"
   ]
  },
  {
   "cell_type": "markdown",
   "id": "549aa453-09d9-4054-9e8f-a24070c4103d",
   "metadata": {},
   "source": [
    "## String Concatenation"
   ]
  },
  {
   "cell_type": "code",
   "execution_count": 17,
   "id": "03689417-046c-4559-8bf9-a23362dda705",
   "metadata": {},
   "outputs": [
    {
     "name": "stdout",
     "output_type": "stream",
     "text": [
      "Hello World\n"
     ]
    }
   ],
   "source": [
    "string1 = \"Hello\"\n",
    "string2 = \"World\"\n",
    "concatenated_string = string1 + \" \" + string2\n",
    "print(concatenated_string)\n"
   ]
  },
  {
   "cell_type": "markdown",
   "id": "b2bfe453-968a-4de9-972c-4f0fc9fa2d0d",
   "metadata": {},
   "source": [
    "## String Length:"
   ]
  },
  {
   "cell_type": "code",
   "execution_count": 18,
   "id": "6d792570-d42f-42f2-990e-69eb1939f41a",
   "metadata": {},
   "outputs": [
    {
     "name": "stdout",
     "output_type": "stream",
     "text": [
      "Length of the string: 6\n"
     ]
    }
   ],
   "source": [
    "my_string = \"Python\"\n",
    "length = len(my_string)\n",
    "print(\"Length of the string:\", length)\n"
   ]
  },
  {
   "cell_type": "markdown",
   "id": "5440c3e5-570e-4694-98d6-6e5938dba029",
   "metadata": {},
   "source": [
    "## String Replacement:"
   ]
  },
  {
   "cell_type": "code",
   "execution_count": 19,
   "id": "2a167cfe-0080-420d-9c75-504ea243d2b1",
   "metadata": {},
   "outputs": [
    {
     "name": "stdout",
     "output_type": "stream",
     "text": [
      "Replaced string: Hello, Universe!\n"
     ]
    }
   ],
   "source": [
    "original_string = \"Hello, World!\"\n",
    "replaced_string = original_string.replace(\"World\", \"Universe\")\n",
    "print(\"Replaced string:\", replaced_string)\n"
   ]
  },
  {
   "cell_type": "markdown",
   "id": "e4c4ae49-71e8-41ee-95d8-98eb564c304b",
   "metadata": {},
   "source": [
    "# DATA TYPES"
   ]
  },
  {
   "cell_type": "markdown",
   "id": "09ef4acf-d2f7-49b6-a44e-647a1b15a5ec",
   "metadata": {},
   "source": [
    "## Integer:"
   ]
  },
  {
   "cell_type": "code",
   "execution_count": 20,
   "id": "34b1db70-5037-4ecf-87f0-8dace573f4ac",
   "metadata": {},
   "outputs": [
    {
     "name": "stdout",
     "output_type": "stream",
     "text": [
      "5\n"
     ]
    }
   ],
   "source": [
    "x = 5\n",
    "print(x)\n"
   ]
  },
  {
   "cell_type": "markdown",
   "id": "a413de61-5317-44f9-8f83-8ddfc309c087",
   "metadata": {},
   "source": [
    "## Float:"
   ]
  },
  {
   "cell_type": "code",
   "execution_count": 21,
   "id": "4bcb1184-8397-40a3-b220-5f98e496984d",
   "metadata": {},
   "outputs": [
    {
     "name": "stdout",
     "output_type": "stream",
     "text": [
      "3.14\n"
     ]
    }
   ],
   "source": [
    "y = 3.14\n",
    "print(y)\n"
   ]
  },
  {
   "cell_type": "markdown",
   "id": "e60e3cce-12a2-4356-ae10-d635e7728038",
   "metadata": {},
   "source": [
    "## Strings"
   ]
  },
  {
   "cell_type": "code",
   "execution_count": 22,
   "id": "f0fbf67e-5884-407f-bb80-b535e79c9ec6",
   "metadata": {},
   "outputs": [
    {
     "name": "stdout",
     "output_type": "stream",
     "text": [
      "Alice\n"
     ]
    }
   ],
   "source": [
    "name = \"Alice\"\n",
    "print(name)\n"
   ]
  },
  {
   "cell_type": "markdown",
   "id": "de25171d-a2fa-43b5-82af-a3a6bf586632",
   "metadata": {},
   "source": [
    "## List:"
   ]
  },
  {
   "cell_type": "code",
   "execution_count": 23,
   "id": "26aa6210-30a8-49c2-8ca5-735671a82310",
   "metadata": {},
   "outputs": [
    {
     "name": "stdout",
     "output_type": "stream",
     "text": [
      "[1, 2, 3, 4, 5]\n"
     ]
    }
   ],
   "source": [
    "numbers = [1, 2, 3, 4, 5]\n",
    "print(numbers)\n"
   ]
  },
  {
   "cell_type": "markdown",
   "id": "83343cc3-364e-4233-b3d1-c1d6640dd9a7",
   "metadata": {},
   "source": [
    "# LOOPS"
   ]
  },
  {
   "cell_type": "code",
   "execution_count": 24,
   "id": "ffa5f9fb-78fd-48b1-838f-3a25164e5e2a",
   "metadata": {},
   "outputs": [
    {
     "name": "stdout",
     "output_type": "stream",
     "text": [
      "1\n",
      "2\n",
      "3\n",
      "4\n",
      "5\n",
      "1\n",
      "2\n",
      "3\n",
      "4\n",
      "5\n"
     ]
    }
   ],
   "source": [
    "# Using a for loop to print numbers from 1 to 5\n",
    "for i in range(1, 6):\n",
    "    print(i)\n",
    "\n",
    "# Using a while loop to print numbers from 1 to 5\n",
    "i = 1\n",
    "while i <= 5:\n",
    "    print(i)\n",
    "    i += 1"
   ]
  },
  {
   "cell_type": "markdown",
   "id": "2c9f2dea-e87c-43c5-af1d-e63a6a292a6e",
   "metadata": {},
   "source": [
    "## IF ELSE:"
   ]
  },
  {
   "cell_type": "code",
   "execution_count": 28,
   "id": "87dcebf4-f302-49d4-aade-ddc712f85d47",
   "metadata": {},
   "outputs": [
    {
     "name": "stdout",
     "output_type": "stream",
     "text": [
      "Odd\n",
      "Negative\n"
     ]
    }
   ],
   "source": [
    "# Checking if a number is even or odd\n",
    "num = 7\n",
    "if num % 2 == 0:\n",
    "    print(\"Even\")\n",
    "else:\n",
    "    print(\"Odd\")\n",
    "\n",
    "# Checking if a number is positive, negative, or zero\n",
    "num = -5\n",
    "if num > 0:\n",
    "    print(\"Positive\")\n",
    "elif num < 0:\n",
    "    print(\"Negative\")\n",
    "else:\n",
    "    print(\"Zero\")"
   ]
  },
  {
   "cell_type": "markdown",
   "id": "a022c9a4-19d7-4fd2-b926-b042072d957d",
   "metadata": {},
   "source": [
    "# FUNCTION"
   ]
  },
  {
   "cell_type": "code",
   "execution_count": 29,
   "id": "130cec61-2f3f-45c2-bd3f-e5f4d8c38d76",
   "metadata": {},
   "outputs": [
    {
     "name": "stdout",
     "output_type": "stream",
     "text": [
      "The sum is: 8\n"
     ]
    }
   ],
   "source": [
    "def add_numbers(a, b):\n",
    "    return a + b\n",
    "\n",
    "# Example usage:\n",
    "result = add_numbers(3, 5)\n",
    "print(\"The sum is:\", result)\n"
   ]
  },
  {
   "cell_type": "markdown",
   "id": "1fb15bc2-5fcd-42eb-b697-b4d10d33834e",
   "metadata": {},
   "source": [
    "# CLASSES"
   ]
  },
  {
   "cell_type": "code",
   "execution_count": 30,
   "id": "6b154b71-6405-44c7-b645-c86384d2fd99",
   "metadata": {},
   "outputs": [
    {
     "name": "stdout",
     "output_type": "stream",
     "text": [
      "2020 Toyota Camry\n"
     ]
    }
   ],
   "source": [
    "class Car:\n",
    "    def __init__(self, make, model, year):\n",
    "        self.make = make\n",
    "        self.model = model\n",
    "        self.year = year\n",
    "\n",
    "my_car = Car(\"Toyota\", \"Camry\", 2020)\n",
    "print(f\"{my_car.year} {my_car.make} {my_car.model}\")\n"
   ]
  },
  {
   "cell_type": "markdown",
   "id": "fa5c961b-87af-4771-ac26-8f7fce1c3998",
   "metadata": {},
   "source": [
    "# NUMPY AND PANDAS"
   ]
  },
  {
   "cell_type": "markdown",
   "id": "2c0804c5-45ea-4784-b9da-28a65bcd7978",
   "metadata": {},
   "source": [
    "## USING NUMPY"
   ]
  },
  {
   "cell_type": "code",
   "execution_count": 32,
   "id": "5fd659a6-0640-4ba2-94b1-a6b0e017bf75",
   "metadata": {},
   "outputs": [
    {
     "name": "stdout",
     "output_type": "stream",
     "text": [
      "Array: [1 2 3 4 5]\n",
      "Sum: 15\n",
      "Mean: 3.0\n",
      "Max: 5\n",
      "Min: 1\n"
     ]
    }
   ],
   "source": [
    "import numpy as np\n",
    "\n",
    "# Creating a NumPy array\n",
    "arr = np.array([1, 2, 3, 4, 5])\n",
    "\n",
    "# Performing basic operations on the array\n",
    "print(\"Array:\", arr)\n",
    "print(\"Sum:\", np.sum(arr))\n",
    "print(\"Mean:\", np.mean(arr))\n",
    "print(\"Max:\", np.max(arr))\n",
    "print(\"Min:\", np.min(arr))"
   ]
  },
  {
   "cell_type": "markdown",
   "id": "c626e0c3-ee8a-45ad-b17d-694124b98ca6",
   "metadata": {},
   "source": [
    "## USING PANDAS"
   ]
  },
  {
   "cell_type": "code",
   "execution_count": 33,
   "id": "093b9e28-d0a6-4d74-9205-6623e5a75abe",
   "metadata": {},
   "outputs": [
    {
     "name": "stdout",
     "output_type": "stream",
     "text": [
      "DataFrame:\n",
      "      Name  Age         City\n",
      "0    Alice   25     New York\n",
      "1      Bob   30  Los Angeles\n",
      "2  Charlie   35      Chicago\n",
      "3    David   40      Houston\n",
      "Shape: (4, 3)\n",
      "Columns: Index(['Name', 'Age', 'City'], dtype='object')\n",
      "Index: RangeIndex(start=0, stop=4, step=1)\n",
      "Describe:\n",
      "             Age\n",
      "count   4.000000\n",
      "mean   32.500000\n",
      "std     6.454972\n",
      "min    25.000000\n",
      "25%    28.750000\n",
      "50%    32.500000\n",
      "75%    36.250000\n",
      "max    40.000000\n"
     ]
    }
   ],
   "source": [
    "import pandas as pd\n",
    "\n",
    "# Creating a DataFrame\n",
    "data = {'Name': ['Alice', 'Bob', 'Charlie', 'David'],\n",
    "        'Age': [25, 30, 35, 40],\n",
    "        'City': ['New York', 'Los Angeles', 'Chicago', 'Houston']}\n",
    "\n",
    "df = pd.DataFrame(data)\n",
    "\n",
    "# Displaying the DataFrame\n",
    "print(\"DataFrame:\")\n",
    "print(df)\n",
    "\n",
    "# Basic DataFrame operations\n",
    "print(\"Shape:\", df.shape)\n",
    "print(\"Columns:\", df.columns)\n",
    "print(\"Index:\", df.index)\n",
    "print(\"Describe:\")\n",
    "print(df.describe())"
   ]
  },
  {
   "cell_type": "code",
   "execution_count": null,
   "id": "6cc245f4-fa63-40d5-aa06-ebd57e6154d9",
   "metadata": {},
   "outputs": [],
   "source": []
  }
 ],
 "metadata": {
  "kernelspec": {
   "display_name": "Python 3 (ipykernel)",
   "language": "python",
   "name": "python3"
  },
  "language_info": {
   "codemirror_mode": {
    "name": "ipython",
    "version": 3
   },
   "file_extension": ".py",
   "mimetype": "text/x-python",
   "name": "python",
   "nbconvert_exporter": "python",
   "pygments_lexer": "ipython3",
   "version": "3.11.7"
  }
 },
 "nbformat": 4,
 "nbformat_minor": 5
}
